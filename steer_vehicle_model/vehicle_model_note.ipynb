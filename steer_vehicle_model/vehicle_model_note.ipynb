{
 "cells": [
  {
   "cell_type": "markdown",
   "metadata": {
    "toc": "true"
   },
   "source": [
    "# Table of Contents\n",
    " <p><div class=\"lev1\"><a href=\"#Unicycle-Model\"><span class=\"toc-item-num\">1&nbsp;&nbsp;</span>Unicycle Model</a></div><div class=\"lev1\"><a href=\"#Kinematic-bicycle-Model\"><span class=\"toc-item-num\">2&nbsp;&nbsp;</span>Kinematic bicycle Model</a></div><div class=\"lev1\"><a href=\"#Dynamic-bicycle-Model\"><span class=\"toc-item-num\">3&nbsp;&nbsp;</span>Dynamic bicycle Model</a></div><div class=\"lev1\"><a href=\"#Compare-Model\"><span class=\"toc-item-num\">4&nbsp;&nbsp;</span>Compare Model</a></div><div class=\"lev1\"><a href=\"#linealize-Dynamic-Bicycle-Model-memo\"><span class=\"toc-item-num\">5&nbsp;&nbsp;</span>linealize Dynamic Bicycle Model memo</a></div>"
   ]
  },
  {
   "cell_type": "markdown",
   "metadata": {},
   "source": [
    "# Unicycle Model\n",
    "\n",
    "非常にシンプルなモデル。\n",
    "シンプルだが、速度ベクトルが車両の進行方向と同じなので少し無理がある\n",
    "\n",
    "\\begin{align}\n",
    "x_{k+1} &= x_{k} + v_k cos(\\phi_k)dt\\\\\n",
    "y_{k+1} &= y_{k} + v_k sin(\\phi_k)dt\\\\\n",
    "\\phi_{k+1} &= \\phi_{k} + \\frac{v_{k}}{L}tan(\\delta_t)dt\\\\\n",
    "v_{k+1} &= v_{k} + a_k dt \\\\\n",
    "\\end{align}\n"
   ]
  },
  {
   "cell_type": "markdown",
   "metadata": {},
   "source": [
    "# Kinematic bicycle Model\n",
    "Unicycle Modelと比べて、車両のすべり角は考慮しているが、車輪のすべり角は考慮していない。\n",
    "速度が15km/h以下の時には有効らしい (Parking などでは有効らしい)\n",
    "\n",
    "\\begin{align}\n",
    "x_{k+1} &= x_{k} + v_k cos(\\phi_k+\\beta_k)dt \\\\\n",
    "y_{k+1} &= y_{k} + v_k sin(\\phi_k+\\beta_k)dt\\\\\n",
    "\\phi_{k+1} &= \\phi_{k} + \\frac{v_{k}}{L_r}sin(\\beta_k)dt\\\\\n",
    "v_{k+1} &= v_{k} + a_k dt\\\\\n",
    "\\beta_{k} &= tan^{-1}(\\frac{L_r}{L_f+L_r}tan(\\delta_{f,k}))\n",
    "\\end{align}\n",
    "\n"
   ]
  },
  {
   "cell_type": "markdown",
   "metadata": {},
   "source": [
    "# Dynamic bicycle Model\n",
    "高速で走行するモデルには基本的にこれをつかう\n",
    "分母にv_xがあるため、速度が0の時に計算できなくなる。\n",
    "\n",
    "\\begin{align}\n",
    "x_{k+1} &= x_{k} + v_{x,k} cos(\\phi_k)dt - v_{y,k} sin(\\phi_k)dt \\\\\n",
    "y_{k+1} &= y_{k} + v_{x,k} sin(\\phi_k)dt + v_{y,k} cos(\\phi_k)dt\\\\\n",
    "\\phi_{k+1} &= \\phi_{k} + \\omega_k dt\\\\\n",
    "F_{fy,k} &= -C_f( \\frac{v_{y,k}+L_f\\omega_k}{v_{x,k}}-\\delta_t) \\\\\n",
    "F_{ry,k} &= -C_r( \\frac{v_{y,k}-L_r\\omega_k}{v_{x,k}}) \\\\\n",
    "v_{x,k+1} &= v_{x,k} + (a_k-\\frac{F_{fy,k}sin(\\delta_{k})}{m}+v_{y,k}\\omega_k)dt\\\\\n",
    "v_{y,k+1} &= v_{y,k} + (\\frac{F_{ry,t}}{m}+\\frac{F_{fy,k}cos(\\delta_{k})}{m}-v_{x,k}\\omega_k)dt\\\\\n",
    "\\omega_{k+1} &= \\omega_{k} + \\frac{dt}{I_z}(F_{fy,t}L_fcos(\\delta_{t})-F_{ry,t}L_r)\n",
    "\\end{align}"
   ]
  },
  {
   "cell_type": "markdown",
   "metadata": {},
   "source": [
    "# Compare Model"
   ]
  },
  {
   "cell_type": "code",
   "execution_count": 1,
   "metadata": {},
   "outputs": [
    {
     "name": "stdout",
     "output_type": "stream",
     "text": [
      "0.0\n",
      "6.0189879062819264e-05\n",
      "0.00018056963718845778\n",
      "0.0003611392743769156\n",
      "0.0006018987906281927\n",
      "0.0009028481859422891\n",
      "0.0012639874603192047\n",
      "0.0016853166137589396\n",
      "0.0021668356462614937\n",
      "0.002708544557826867\n",
      "0.0033104433484550597\n",
      "0.003972532018146071\n",
      "0.004694810566899903\n",
      "0.005477278994716553\n",
      "0.006319937301596024\n",
      "0.0072227854875383125\n",
      "0.00818582355254342\n",
      "0.009209051496611349\n",
      "0.010292469319742096\n",
      "0.011436077021935663\n",
      "0.012639874603192047\n",
      "0.013903862063511251\n",
      "0.015228039402893275\n",
      "0.01661240662133812\n",
      "0.018056963718845784\n",
      "0.019561710695416266\n",
      "0.021126647551049565\n",
      "0.022751774285745686\n",
      "0.024437090899504625\n",
      "0.026182597392326385\n",
      "0.027988293764210963\n",
      "0.02985418001515836\n",
      "0.03178025614516858\n",
      "0.03376652215424161\n",
      "0.03581297804237747\n",
      "0.03791962380957615\n",
      "0.04008645945583764\n",
      "0.042313484981161956\n",
      "0.044600700385549086\n",
      "0.04694810566899904\n",
      "0.04935570083151181\n",
      "0.0518234858730874\n",
      "0.05435146079372581\n",
      "0.05693962559342704\n",
      "0.05958798027219109\n",
      "0.062296524830017956\n",
      "0.06506525926690765\n",
      "0.06789418358286016\n",
      "0.07078329777787548\n",
      "0.07373260185195363\n",
      "0.07674209580509458\n",
      "0.07981177963729837\n",
      "0.08294165334856497\n",
      "0.08613171693889439\n",
      "0.08938197040828663\n",
      "0.09269241375674168\n",
      "0.09606304698425956\n",
      "0.09949387009084026\n",
      "0.10298488307648378\n",
      "0.10653608594119011\n",
      "0.11014747868495926\n",
      "0.11381906130779124\n",
      "0.11755083380968603\n",
      "0.12134279619064364\n",
      "0.12519494845066406\n",
      "0.12910729058974732\n",
      "0.1330798226078934\n",
      "0.13711254450510227\n",
      "0.141205456281374\n",
      "0.14535855793670852\n",
      "0.14957184947110586\n",
      "0.153845330884566\n",
      "0.158179002177089\n",
      "0.1625728633486748\n",
      "0.1670269143993234\n",
      "0.17154115532903486\n",
      "0.17611558613780912\n",
      "0.1807502068256462\n",
      "0.1854450173925461\n",
      "0.19020001783850882\n",
      "0.19501520816353435\n",
      "0.1998905883676227\n",
      "0.20482615845077387\n",
      "0.20982191841298786\n",
      "0.21487786825426466\n",
      "0.2199940079746043\n",
      "0.22517033757400676\n",
      "0.23040685705247202\n",
      "0.2357035664100001\n",
      "0.241060465646591\n",
      "0.24647755476224473\n",
      "0.25195483375696126\n",
      "0.25749230263074063\n",
      "0.2630899613835828\n",
      "0.2687478100154878\n",
      "0.2744658485264556\n",
      "0.28024407691648623\n",
      "0.2860824951855797\n",
      "0.291981103333736\n",
      "0.2979399013609551\n"
     ]
    }
   ],
   "source": [
    "#%matplotlib inline\n",
    "\n",
    "import matplotlib.pyplot as plt\n",
    "import numpy as np\n",
    "import unicycle_model\n",
    "import kinematic_bicycle_model\n",
    "import dynamic_bicyccle_model\n",
    "import math\n",
    "\n",
    "T = 100\n",
    "a = [1.0] * T\n",
    "delta = [math.radians(1.0)] * T\n",
    "\n",
    "ustate = unicycle_model.State()\n",
    "kstate = kinematic_bicycle_model.State()\n",
    "dstate = dynamic_bicyccle_model.State()\n",
    "\n",
    "ux,uy,uyaw,uv, = [],[],[],[]\n",
    "dx,dy,dyaw,dv, = [],[],[],[]\n",
    "kx,ky,kyaw,kv, kbeta= [],[],[],[],[]\n",
    "time = []\n",
    "t = 0.0\n",
    "\n",
    "\n",
    "for (ai, di) in zip(a, delta):\n",
    "    t = t + unicycle_model.dt\n",
    "    time.append(t)\n",
    " \n",
    "    ustate = unicycle_model.update(ustate, ai, di)\n",
    "    ux.append(ustate.x+kinematic_bicycle_model.Lr*math.cos(ustate.yaw))\n",
    "    uy.append(ustate.y+kinematic_bicycle_model.Lr*math.sin(ustate.yaw))\n",
    "    uyaw.append(ustate.yaw)\n",
    "    uv.append(ustate.v)\n",
    "    \n",
    "    kstate = kinematic_bicycle_model.update(kstate, ai, di)\n",
    "    kx.append(kstate.x)\n",
    "    ky.append(kstate.y)\n",
    "    kyaw.append(kstate.yaw)\n",
    "    kv.append(kstate.v)\n",
    "    kbeta.append(kstate.beta)\n",
    "    \n",
    "    dstate = dynamic_bicyccle_model.update(dstate, ai, di)\n",
    "    dx.append(dstate.x)\n",
    "    dy.append(dstate.y)\n",
    "    dyaw.append(dstate.yaw)\n",
    " \n"
   ]
  },
  {
   "cell_type": "code",
   "execution_count": 2,
   "metadata": {},
   "outputs": [
    {
     "name": "stdout",
     "output_type": "stream",
     "text": [
      "4.12 µs ± 39.3 ns per loop (mean ± std. dev. of 7 runs, 100000 loops each)\n"
     ]
    }
   ],
   "source": [
    "%timeit dynamic_bicyccle_model.update(dstate,ai,di)"
   ]
  },
  {
   "cell_type": "code",
   "execution_count": 3,
   "metadata": {},
   "outputs": [],
   "source": [
    "dynamic_bicyccle_model?"
   ]
  },
  {
   "cell_type": "code",
   "execution_count": 4,
   "metadata": {},
   "outputs": [
    {
     "data": {
      "image/png": "[encoded data removed]",
      "text/plain": [
       "<Figure size 432x288 with 1 Axes>"
      ]
     },
     "metadata": {
      "needs_background": "light"
     },
     "output_type": "display_data"
    }
   ],
   "source": [
    "plt.plot(ux,uy,label=\"unicycle_model\")\n",
    "plt.plot(kx,ky,label=\"kinematic_bicycle_model\")\n",
    "plt.plot(dx,dy,label=\"dynamic_bicyccle_model\")\n",
    "plt.axis(\"equal\")\n",
    "plt.xlabel(\"X[m]\")\n",
    "plt.ylabel(\"Y[m]\")\n",
    "plt.legend()\n",
    "plt.grid(True)\n",
    "plt.show()"
   ]
  },
  {
   "cell_type": "code",
   "execution_count": 5,
   "metadata": {},
   "outputs": [
    {
     "data": {
      "image/png": "[encoded data removed]",
      "text/plain": [
       "<Figure size 432x288 with 1 Axes>"
      ]
     },
     "metadata": {
      "needs_background": "light"
     },
     "output_type": "display_data"
    }
   ],
   "source": [
    "plt.plot(ux,uy,label=\"unicycle_model\")\n",
    "plt.plot(kx,ky,label=\"kinematic_bicycle_model\")\n",
    "plt.axis(\"equal\")\n",
    "plt.xlabel(\"X[m]\")\n",
    "plt.ylabel(\"Y[m]\")\n",
    "plt.legend()\n",
    "plt.grid(True)\n",
    "plt.show()"
   ]
  },
  {
   "cell_type": "code",
   "execution_count": 6,
   "metadata": {},
   "outputs": [
    {
     "data": {
      "image/png": "[encoded data removed]",
      "text/plain": [
       "<Figure size 432x288 with 1 Axes>"
      ]
     },
     "metadata": {
      "needs_background": "light"
     },
     "output_type": "display_data"
    }
   ],
   "source": [
    "plt.plot(time, uyaw,label=\"unicycle_model\")\n",
    "plt.plot(time, kyaw,label=\"kinematic_bicycle_model\")\n",
    "plt.xlabel(\"Time[s]\")\n",
    "plt.ylabel(\"Yaw[rad]\")\n",
    "plt.legend()\n",
    "plt.grid(True)\n",
    "plt.show()"
   ]
  },
  {
   "cell_type": "markdown",
   "metadata": {},
   "source": [
    "# linealize Dynamic Bicycle Model memo"
   ]
  },
  {
   "cell_type": "code",
   "execution_count": 35,
   "metadata": {},
   "outputs": [],
   "source": [
    "%matplotlib inline"
   ]
  },
  {
   "cell_type": "code",
   "execution_count": 36,
   "metadata": {},
   "outputs": [
    {
     "data": {
      "image/png": "[encoded data removed]",
      "text/latex": [
       "$\\displaystyle vx \\cos{\\left(\\phi \\right)} - vy \\sin{\\left(\\phi \\right)}$"
      ],
      "text/plain": [
       "vx⋅cos(φ) - vy⋅sin(φ)"
      ]
     },
     "execution_count": 36,
     "metadata": {},
     "output_type": "execute_result"
    }
   ],
   "source": [
    "import sympy\n",
    "from sympy import init_printing\n",
    "init_printing()\n",
    "\n",
    "x,y,vx, vy, phi, a, d, cf, cr, m, Lf, Lr, w,Iz = sympy.symbols('x y vx vy phi a d cf cr m Lf Lr, w, Iz')\n",
    "f = vx*sympy.cos(phi) - vy*sympy.sin(phi)\n",
    "f"
   ]
  },
  {
   "cell_type": "code",
   "execution_count": 10,
   "metadata": {},
   "outputs": [
    {
     "data": {
      "image/png": "[encoded data removed]",
      "text/latex": [
       "$\\displaystyle 0$"
      ],
      "text/plain": [
       "0"
      ]
     },
     "execution_count": 10,
     "metadata": {},
     "output_type": "execute_result"
    }
   ],
   "source": [
    "sympy.diff(f,x)"
   ]
  },
  {
   "cell_type": "code",
   "execution_count": 11,
   "metadata": {},
   "outputs": [
    {
     "data": {
      "image/png": "[encoded data removed]",
      "text/latex": [
       "$\\displaystyle 0$"
      ],
      "text/plain": [
       "0"
      ]
     },
     "execution_count": 11,
     "metadata": {},
     "output_type": "execute_result"
    }
   ],
   "source": [
    "sympy.diff(f,y)"
   ]
  },
  {
   "cell_type": "code",
   "execution_count": 12,
   "metadata": {},
   "outputs": [
    {
     "data": {
      "image/png": "[encoded data removed]",
      "text/latex": [
       "$\\displaystyle - vx \\sin{\\left(\\phi \\right)} - vy \\cos{\\left(\\phi \\right)}$"
      ],
      "text/plain": [
       "-vx⋅sin(φ) - vy⋅cos(φ)"
      ]
     },
     "execution_count": 12,
     "metadata": {},
     "output_type": "execute_result"
    }
   ],
   "source": [
    "sympy.diff(f,phi)"
   ]
  },
  {
   "cell_type": "code",
   "execution_count": 13,
   "metadata": {},
   "outputs": [
    {
     "data": {
      "image/png": "[encoded data removed]",
      "text/latex": [
       "$\\displaystyle - \\sin{\\left(\\phi \\right)}$"
      ],
      "text/plain": [
       "-sin(φ)"
      ]
     },
     "execution_count": 13,
     "metadata": {},
     "output_type": "execute_result"
    }
   ],
   "source": [
    "sympy.diff(f,vy)"
   ]
  },
  {
   "cell_type": "code",
   "execution_count": 14,
   "metadata": {},
   "outputs": [
    {
     "data": {
      "image/png": "[encoded data removed]",
      "text/latex": [
       "$\\displaystyle \\cos{\\left(\\phi \\right)}$"
      ],
      "text/plain": [
       "cos(φ)"
      ]
     },
     "execution_count": 14,
     "metadata": {},
     "output_type": "execute_result"
    }
   ],
   "source": [
    "sympy.diff(f,vx)"
   ]
  },
  {
   "cell_type": "code",
   "execution_count": 15,
   "metadata": {},
   "outputs": [
    {
     "name": "stdout",
     "output_type": "stream",
     "text": [
      "vx*sin(phi) - vy*cos(phi)\n"
     ]
    }
   ],
   "source": [
    "f2 = vx*sympy.sin(phi) - vy*sympy.cos(phi)\n",
    "print(f2)"
   ]
  },
  {
   "cell_type": "code",
   "execution_count": 16,
   "metadata": {},
   "outputs": [
    {
     "data": {
      "image/png": "[encoded data removed]",
      "text/latex": [
       "$\\displaystyle vx \\cos{\\left(\\phi \\right)} + vy \\sin{\\left(\\phi \\right)}$"
      ],
      "text/plain": [
       "vx⋅cos(φ) + vy⋅sin(φ)"
      ]
     },
     "execution_count": 16,
     "metadata": {},
     "output_type": "execute_result"
    }
   ],
   "source": [
    "sympy.diff(f2,phi)"
   ]
  },
  {
   "cell_type": "code",
   "execution_count": 17,
   "metadata": {},
   "outputs": [
    {
     "data": {
      "image/png": "[encoded data removed]",
      "text/latex": [
       "$\\displaystyle a + \\frac{cf \\left(- d + \\frac{Lf w + vy}{vx}\\right) \\sin{\\left(d \\right)}}{m} + vy w$"
      ],
      "text/plain": [
       "       ⎛     Lf⋅w + vy⎞              \n",
       "    cf⋅⎜-d + ─────────⎟⋅sin(d)       \n",
       "       ⎝         vx   ⎠              \n",
       "a + ────────────────────────── + vy⋅w\n",
       "                m                    "
      ]
     },
     "execution_count": 17,
     "metadata": {},
     "output_type": "execute_result"
    }
   ],
   "source": [
    "fvx = a + sympy.sin(d) * cf / m * ((vy+Lf*w)/vx - d) + vy*w\n",
    "fvx"
   ]
  },
  {
   "cell_type": "code",
   "execution_count": 18,
   "metadata": {},
   "outputs": [
    {
     "data": {
      "image/png": "[encoded data removed]",
      "text/latex": [
       "$\\displaystyle - \\frac{cf \\left(Lf w + vy\\right) \\sin{\\left(d \\right)}}{m vx^{2}}$"
      ],
      "text/plain": [
       "-cf⋅(Lf⋅w + vy)⋅sin(d) \n",
       "───────────────────────\n",
       "             2         \n",
       "         m⋅vx          "
      ]
     },
     "execution_count": 18,
     "metadata": {},
     "output_type": "execute_result"
    }
   ],
   "source": [
    "sympy.diff(fvx,vx)"
   ]
  },
  {
   "cell_type": "code",
   "execution_count": 19,
   "metadata": {},
   "outputs": [
    {
     "data": {
      "image/png": "[encoded data removed]",
      "text/latex": [
       "$\\displaystyle \\frac{cf \\sin{\\left(d \\right)}}{m vx} + w$"
      ],
      "text/plain": [
       "cf⋅sin(d)    \n",
       "───────── + w\n",
       "   m⋅vx      "
      ]
     },
     "execution_count": 19,
     "metadata": {},
     "output_type": "execute_result"
    }
   ],
   "source": [
    "sympy.diff(fvx,vy)"
   ]
  },
  {
   "cell_type": "code",
   "execution_count": 20,
   "metadata": {},
   "outputs": [
    {
     "data": {
      "image/png": "[encoded data removed]",
      "text/latex": [
       "$\\displaystyle \\frac{Lf cf \\sin{\\left(d \\right)}}{m vx} + vy$"
      ],
      "text/plain": [
       "Lf⋅cf⋅sin(d)     \n",
       "──────────── + vy\n",
       "    m⋅vx         "
      ]
     },
     "execution_count": 20,
     "metadata": {},
     "output_type": "execute_result"
    }
   ],
   "source": [
    "sympy.diff(fvx,w)"
   ]
  },
  {
   "cell_type": "code",
   "execution_count": 21,
   "metadata": {},
   "outputs": [
    {
     "data": {
      "image/png": "[encoded data removed]",
      "text/latex": [
       "$\\displaystyle 0$"
      ],
      "text/plain": [
       "0"
      ]
     },
     "execution_count": 21,
     "metadata": {},
     "output_type": "execute_result"
    }
   ],
   "source": [
    "sympy.diff(fvx,x)"
   ]
  },
  {
   "cell_type": "code",
   "execution_count": 22,
   "metadata": {},
   "outputs": [
    {
     "data": {
      "image/png": "[encoded data removed]",
      "text/latex": [
       "$\\displaystyle \\frac{cf \\left(- d + \\frac{Lf w + vy}{vx}\\right) \\cos{\\left(d \\right)}}{m} - \\frac{cf \\sin{\\left(d \\right)}}{m}$"
      ],
      "text/plain": [
       "   ⎛     Lf⋅w + vy⎞                   \n",
       "cf⋅⎜-d + ─────────⎟⋅cos(d)            \n",
       "   ⎝         vx   ⎠          cf⋅sin(d)\n",
       "────────────────────────── - ─────────\n",
       "            m                    m    "
      ]
     },
     "execution_count": 22,
     "metadata": {},
     "output_type": "execute_result"
    }
   ],
   "source": [
    "sympy.diff(fvx,d)"
   ]
  },
  {
   "cell_type": "code",
   "execution_count": 23,
   "metadata": {},
   "outputs": [
    {
     "data": {
      "image/png": "[encoded data removed]",
      "text/latex": [
       "$\\displaystyle - \\frac{cr \\left(- Lr w + vy\\right)}{m vx} - vx w + \\frac{\\left(- d + \\frac{Lf w + vy}{vx}\\right) \\cos{\\left(d \\right)}}{m}$"
      ],
      "text/plain": [
       "                           ⎛     Lf⋅w + vy⎞       \n",
       "                           ⎜-d + ─────────⎟⋅cos(d)\n",
       "  cr⋅(-Lr⋅w + vy)          ⎝         vx   ⎠       \n",
       "- ─────────────── - vx⋅w + ───────────────────────\n",
       "        m⋅vx                          m           "
      ]
     },
     "execution_count": 23,
     "metadata": {},
     "output_type": "execute_result"
    }
   ],
   "source": [
    "fvy = - cr / m * (vy-Lr*w)/vx + sympy.cos(d)/m*((vy+Lf*w)/vx - d) -vx*w\n",
    "fvy"
   ]
  },
  {
   "cell_type": "code",
   "execution_count": 24,
   "metadata": {},
   "outputs": [
    {
     "data": {
      "image/png": "[encoded data removed]",
      "text/latex": [
       "$\\displaystyle \\frac{cr \\left(- Lr w + vy\\right)}{m vx^{2}} - w - \\frac{\\left(Lf w + vy\\right) \\cos{\\left(d \\right)}}{m vx^{2}}$"
      ],
      "text/plain": [
       "cr⋅(-Lr⋅w + vy)       (Lf⋅w + vy)⋅cos(d)\n",
       "─────────────── - w - ──────────────────\n",
       "         2                      2       \n",
       "     m⋅vx                   m⋅vx        "
      ]
     },
     "execution_count": 24,
     "metadata": {},
     "output_type": "execute_result"
    }
   ],
   "source": [
    "sympy.diff(fvy, vx)"
   ]
  },
  {
   "cell_type": "code",
   "execution_count": 25,
   "metadata": {},
   "outputs": [
    {
     "data": {
      "image/png": "[encoded data removed]",
      "text/latex": [
       "$\\displaystyle - \\frac{cr}{m vx} + \\frac{\\cos{\\left(d \\right)}}{m vx}$"
      ],
      "text/plain": [
       "   cr    cos(d)\n",
       "- ──── + ──────\n",
       "  m⋅vx    m⋅vx "
      ]
     },
     "execution_count": 25,
     "metadata": {},
     "output_type": "execute_result"
    }
   ],
   "source": [
    "sympy.diff(fvy, vy)"
   ]
  },
  {
   "cell_type": "code",
   "execution_count": 28,
   "metadata": {},
   "outputs": [
    {
     "data": {
      "image/png": "[encoded data removed]",
      "text/latex": [
       "$\\displaystyle \\frac{Lf \\cos{\\left(d \\right)}}{m vx} + \\frac{Lr cr}{m vx} - vx$"
      ],
      "text/plain": [
       "Lf⋅cos(d)   Lr⋅cr     \n",
       "───────── + ───── - vx\n",
       "   m⋅vx      m⋅vx     "
      ]
     },
     "execution_count": 28,
     "metadata": {},
     "output_type": "execute_result"
    }
   ],
   "source": [
    "sympy.diff(fvy, w)"
   ]
  },
  {
   "cell_type": "code",
   "execution_count": 29,
   "metadata": {},
   "outputs": [
    {
     "data": {
      "image/png": "[encoded data removed]",
      "text/latex": [
       "$\\displaystyle - \\frac{\\left(- d + \\frac{Lf w + vy}{vx}\\right) \\sin{\\left(d \\right)}}{m} - \\frac{\\cos{\\left(d \\right)}}{m}$"
      ],
      "text/plain": [
       "  ⎛     Lf⋅w + vy⎞                \n",
       "  ⎜-d + ─────────⎟⋅sin(d)         \n",
       "  ⎝         vx   ⎠          cos(d)\n",
       "- ─────────────────────── - ──────\n",
       "             m                m   "
      ]
     },
     "execution_count": 29,
     "metadata": {},
     "output_type": "execute_result"
    }
   ],
   "source": [
    "sympy.diff(fvy,d)"
   ]
  },
  {
   "cell_type": "code",
   "execution_count": 30,
   "metadata": {},
   "outputs": [
    {
     "data": {
      "image/png": "[encoded data removed]",
      "text/latex": [
       "$\\displaystyle - \\frac{Lf cf \\left(- d + \\frac{Lf w + vy}{vx}\\right) \\cos{\\left(d \\right)}}{Iz} + \\frac{Lr cr \\left(- Lr w + vy\\right)}{Iz vx}$"
      ],
      "text/plain": [
       "        ⎛     Lf⋅w + vy⎞                            \n",
       "  Lf⋅cf⋅⎜-d + ─────────⎟⋅cos(d)                     \n",
       "        ⎝         vx   ⎠          Lr⋅cr⋅(-Lr⋅w + vy)\n",
       "- ───────────────────────────── + ──────────────────\n",
       "                Iz                      Iz⋅vx       "
      ]
     },
     "execution_count": 30,
     "metadata": {},
     "output_type": "execute_result"
    }
   ],
   "source": [
    "fw = -cf/Iz*((vy+Lf*w)/vx-d)*Lf*sympy.cos(d)+cr/Iz*(vy-Lr*w)/vx*Lr\n",
    "fw"
   ]
  },
  {
   "cell_type": "code",
   "execution_count": 31,
   "metadata": {},
   "outputs": [
    {
     "data": {
      "image/png": "[encoded data removed]",
      "text/latex": [
       "$\\displaystyle \\frac{Lf cf \\left(Lf w + vy\\right) \\cos{\\left(d \\right)}}{Iz vx^{2}} - \\frac{Lr cr \\left(- Lr w + vy\\right)}{Iz vx^{2}}$"
      ],
      "text/plain": [
       "Lf⋅cf⋅(Lf⋅w + vy)⋅cos(d)   Lr⋅cr⋅(-Lr⋅w + vy)\n",
       "──────────────────────── - ──────────────────\n",
       "              2                       2      \n",
       "         Iz⋅vx                   Iz⋅vx       "
      ]
     },
     "execution_count": 31,
     "metadata": {},
     "output_type": "execute_result"
    }
   ],
   "source": [
    "sympy.diff(fw,vx)"
   ]
  },
  {
   "cell_type": "code",
   "execution_count": 32,
   "metadata": {},
   "outputs": [
    {
     "data": {
      "image/png": "[encoded data removed]",
      "text/latex": [
       "$\\displaystyle - \\frac{Lf cf \\cos{\\left(d \\right)}}{Iz vx} + \\frac{Lr cr}{Iz vx}$"
      ],
      "text/plain": [
       "  Lf⋅cf⋅cos(d)   Lr⋅cr\n",
       "- ──────────── + ─────\n",
       "     Iz⋅vx       Iz⋅vx"
      ]
     },
     "execution_count": 32,
     "metadata": {},
     "output_type": "execute_result"
    }
   ],
   "source": [
    "sympy.diff(fw,vy)"
   ]
  },
  {
   "cell_type": "code",
   "execution_count": 33,
   "metadata": {},
   "outputs": [
    {
     "data": {
      "image/png": "[encoded data removed]",
      "text/latex": [
       "$\\displaystyle - \\frac{Lf^{2} cf \\cos{\\left(d \\right)}}{Iz vx} - \\frac{Lr^{2} cr}{Iz vx}$"
      ],
      "text/plain": [
       "    2               2   \n",
       "  Lf ⋅cf⋅cos(d)   Lr ⋅cr\n",
       "- ───────────── - ──────\n",
       "      Iz⋅vx       Iz⋅vx "
      ]
     },
     "execution_count": 33,
     "metadata": {},
     "output_type": "execute_result"
    }
   ],
   "source": [
    "sympy.diff(fw,w)"
   ]
  },
  {
   "cell_type": "code",
   "execution_count": 34,
   "metadata": {},
   "outputs": [
    {
     "data": {
      "image/png": "[encoded data removed]",
      "text/latex": [
       "$\\displaystyle \\frac{Lf cf \\left(- d + \\frac{Lf w + vy}{vx}\\right) \\sin{\\left(d \\right)}}{Iz} + \\frac{Lf cf \\cos{\\left(d \\right)}}{Iz}$"
      ],
      "text/plain": [
       "      ⎛     Lf⋅w + vy⎞                      \n",
       "Lf⋅cf⋅⎜-d + ─────────⎟⋅sin(d)               \n",
       "      ⎝         vx   ⎠          Lf⋅cf⋅cos(d)\n",
       "───────────────────────────── + ────────────\n",
       "              Iz                     Iz     "
      ]
     },
     "execution_count": 34,
     "metadata": {},
     "output_type": "execute_result"
    }
   ],
   "source": [
    "sympy.diff(fw,d)"
   ]
  },
  {
   "cell_type": "code",
   "execution_count": null,
   "metadata": {},
   "outputs": [],
   "source": []
  },
  {
   "cell_type": "code",
   "execution_count": null,
   "metadata": {},
   "outputs": [],
   "source": []
  }
 ],
 "metadata": {
  "anaconda-cloud": {},
  "hide_input": false,
  "kernelspec": {
   "display_name": "Python 3",
   "language": "python",
   "name": "python3"
  },
  "language_info": {
   "codemirror_mode": {
    "name": "ipython",
    "version": 3
   },
   "file_extension": ".py",
   "mimetype": "text/x-python",
   "name": "python",
   "nbconvert_exporter": "python",
   "pygments_lexer": "ipython3",
   "version": "3.7.3"
  },
  "toc": {
   "toc_cell": true,
   "toc_number_sections": true,
   "toc_threshold": 6,
   "toc_window_display": false
  }
 },
 "nbformat": 4,
 "nbformat_minor": 1
}
